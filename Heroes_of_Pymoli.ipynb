{
 "cells": [
  {
   "cell_type": "code",
   "execution_count": 99,
   "metadata": {
    "collapsed": true
   },
   "outputs": [],
   "source": [
    "#Import dependencies\n",
    "import pandas as pd\n",
    "import os"
   ]
  },
  {
   "cell_type": "code",
   "execution_count": 100,
   "metadata": {
    "collapsed": true
   },
   "outputs": [],
   "source": [
    "#Read CSV file\n",
    "pymoli_data = os.path.join(\"Resources\", \"purchase_data.json.txt\")\n",
    "pymoli_df = pd.read_json(pymoli_data)"
   ]
  },
  {
   "cell_type": "code",
   "execution_count": 101,
   "metadata": {},
   "outputs": [
    {
     "data": {
      "text/html": [
       "<div>\n",
       "<style>\n",
       "    .dataframe thead tr:only-child th {\n",
       "        text-align: right;\n",
       "    }\n",
       "\n",
       "    .dataframe thead th {\n",
       "        text-align: left;\n",
       "    }\n",
       "\n",
       "    .dataframe tbody tr th {\n",
       "        vertical-align: top;\n",
       "    }\n",
       "</style>\n",
       "<table border=\"1\" class=\"dataframe\">\n",
       "  <thead>\n",
       "    <tr style=\"text-align: right;\">\n",
       "      <th></th>\n",
       "      <th>Age</th>\n",
       "      <th>Gender</th>\n",
       "      <th>Item ID</th>\n",
       "      <th>Item Name</th>\n",
       "      <th>Price</th>\n",
       "      <th>SN</th>\n",
       "    </tr>\n",
       "  </thead>\n",
       "  <tbody>\n",
       "    <tr>\n",
       "      <th>0</th>\n",
       "      <td>38</td>\n",
       "      <td>Male</td>\n",
       "      <td>165</td>\n",
       "      <td>Bone Crushing Silver Skewer</td>\n",
       "      <td>3.37</td>\n",
       "      <td>Aelalis34</td>\n",
       "    </tr>\n",
       "    <tr>\n",
       "      <th>1</th>\n",
       "      <td>21</td>\n",
       "      <td>Male</td>\n",
       "      <td>119</td>\n",
       "      <td>Stormbringer, Dark Blade of Ending Misery</td>\n",
       "      <td>2.32</td>\n",
       "      <td>Eolo46</td>\n",
       "    </tr>\n",
       "    <tr>\n",
       "      <th>2</th>\n",
       "      <td>34</td>\n",
       "      <td>Male</td>\n",
       "      <td>174</td>\n",
       "      <td>Primitive Blade</td>\n",
       "      <td>2.46</td>\n",
       "      <td>Assastnya25</td>\n",
       "    </tr>\n",
       "    <tr>\n",
       "      <th>3</th>\n",
       "      <td>21</td>\n",
       "      <td>Male</td>\n",
       "      <td>92</td>\n",
       "      <td>Final Critic</td>\n",
       "      <td>1.36</td>\n",
       "      <td>Pheusrical25</td>\n",
       "    </tr>\n",
       "    <tr>\n",
       "      <th>4</th>\n",
       "      <td>23</td>\n",
       "      <td>Male</td>\n",
       "      <td>63</td>\n",
       "      <td>Stormfury Mace</td>\n",
       "      <td>1.27</td>\n",
       "      <td>Aela59</td>\n",
       "    </tr>\n",
       "  </tbody>\n",
       "</table>\n",
       "</div>"
      ],
      "text/plain": [
       "   Age Gender  Item ID                                  Item Name  Price  \\\n",
       "0   38   Male      165                Bone Crushing Silver Skewer   3.37   \n",
       "1   21   Male      119  Stormbringer, Dark Blade of Ending Misery   2.32   \n",
       "2   34   Male      174                            Primitive Blade   2.46   \n",
       "3   21   Male       92                               Final Critic   1.36   \n",
       "4   23   Male       63                             Stormfury Mace   1.27   \n",
       "\n",
       "             SN  \n",
       "0     Aelalis34  \n",
       "1        Eolo46  \n",
       "2   Assastnya25  \n",
       "3  Pheusrical25  \n",
       "4        Aela59  "
      ]
     },
     "execution_count": 101,
     "metadata": {},
     "output_type": "execute_result"
    }
   ],
   "source": [
    "#Print first five rows of data\n",
    "pymoli_df.head()"
   ]
  },
  {
   "cell_type": "code",
   "execution_count": 102,
   "metadata": {},
   "outputs": [
    {
     "data": {
      "text/plain": [
       "573"
      ]
     },
     "execution_count": 102,
     "metadata": {},
     "output_type": "execute_result"
    }
   ],
   "source": [
    "#Count number of unique players\n",
    "players = pymoli_df[\"SN\"].nunique()\n",
    "players"
   ]
  },
  {
   "cell_type": "code",
   "execution_count": 103,
   "metadata": {},
   "outputs": [
    {
     "data": {
      "text/html": [
       "<div>\n",
       "<style>\n",
       "    .dataframe thead tr:only-child th {\n",
       "        text-align: right;\n",
       "    }\n",
       "\n",
       "    .dataframe thead th {\n",
       "        text-align: left;\n",
       "    }\n",
       "\n",
       "    .dataframe tbody tr th {\n",
       "        vertical-align: top;\n",
       "    }\n",
       "</style>\n",
       "<table border=\"1\" class=\"dataframe\">\n",
       "  <thead>\n",
       "    <tr style=\"text-align: right;\">\n",
       "      <th></th>\n",
       "      <th>Total Players</th>\n",
       "    </tr>\n",
       "  </thead>\n",
       "  <tbody>\n",
       "    <tr>\n",
       "      <th>0</th>\n",
       "      <td>573</td>\n",
       "    </tr>\n",
       "  </tbody>\n",
       "</table>\n",
       "</div>"
      ],
      "text/plain": [
       "   Total Players\n",
       "0            573"
      ]
     },
     "execution_count": 103,
     "metadata": {},
     "output_type": "execute_result"
    }
   ],
   "source": [
    "#Create dataframe for number of players\n",
    "players_df = pd.DataFrame([{'Total Players': players}])\n",
    "players_df"
   ]
  },
  {
   "cell_type": "code",
   "execution_count": 104,
   "metadata": {
    "collapsed": true
   },
   "outputs": [],
   "source": [
    "#Purchasing Analysis"
   ]
  },
  {
   "cell_type": "code",
   "execution_count": 105,
   "metadata": {},
   "outputs": [
    {
     "data": {
      "text/plain": [
       "183"
      ]
     },
     "execution_count": 105,
     "metadata": {},
     "output_type": "execute_result"
    }
   ],
   "source": [
    "#Count number of unique items\n",
    "items = pymoli_df[\"Item ID\"].nunique()\n",
    "items"
   ]
  },
  {
   "cell_type": "code",
   "execution_count": 106,
   "metadata": {},
   "outputs": [
    {
     "data": {
      "text/plain": [
       "2.93"
      ]
     },
     "execution_count": 106,
     "metadata": {},
     "output_type": "execute_result"
    }
   ],
   "source": [
    "#Calculate average purchase price of items\n",
    "avg_price = round(pymoli_df['Price'].mean(),2)\n",
    "avg_price"
   ]
  },
  {
   "cell_type": "code",
   "execution_count": 107,
   "metadata": {},
   "outputs": [
    {
     "data": {
      "text/plain": [
       "780"
      ]
     },
     "execution_count": 107,
     "metadata": {},
     "output_type": "execute_result"
    }
   ],
   "source": [
    "#Count total number of purchases\n",
    "purchases = pymoli_df[\"SN\"].count()\n",
    "purchases"
   ]
  },
  {
   "cell_type": "code",
   "execution_count": 108,
   "metadata": {},
   "outputs": [
    {
     "data": {
      "text/plain": [
       "2286.33"
      ]
     },
     "execution_count": 108,
     "metadata": {},
     "output_type": "execute_result"
    }
   ],
   "source": [
    "#Calculate total revenue of item sales\n",
    "revenue = round(pymoli_df[\"Price\"].sum(),2)\n",
    "revenue"
   ]
  },
  {
   "cell_type": "code",
   "execution_count": 109,
   "metadata": {},
   "outputs": [
    {
     "data": {
      "text/html": [
       "<div>\n",
       "<style>\n",
       "    .dataframe thead tr:only-child th {\n",
       "        text-align: right;\n",
       "    }\n",
       "\n",
       "    .dataframe thead th {\n",
       "        text-align: left;\n",
       "    }\n",
       "\n",
       "    .dataframe tbody tr th {\n",
       "        vertical-align: top;\n",
       "    }\n",
       "</style>\n",
       "<table border=\"1\" class=\"dataframe\">\n",
       "  <thead>\n",
       "    <tr style=\"text-align: right;\">\n",
       "      <th></th>\n",
       "      <th>Average Purchase Price</th>\n",
       "      <th>Number of Unique Items</th>\n",
       "      <th>Total Number of Purchases</th>\n",
       "      <th>Total Revenue</th>\n",
       "    </tr>\n",
       "  </thead>\n",
       "  <tbody>\n",
       "    <tr>\n",
       "      <th>0</th>\n",
       "      <td>2.93</td>\n",
       "      <td>183</td>\n",
       "      <td>780</td>\n",
       "      <td>2286.33</td>\n",
       "    </tr>\n",
       "  </tbody>\n",
       "</table>\n",
       "</div>"
      ],
      "text/plain": [
       "   Average Purchase Price  Number of Unique Items  Total Number of Purchases  \\\n",
       "0                    2.93                     183                        780   \n",
       "\n",
       "   Total Revenue  \n",
       "0        2286.33  "
      ]
     },
     "execution_count": 109,
     "metadata": {},
     "output_type": "execute_result"
    }
   ],
   "source": [
    "#Create dataframe for purchase data\n",
    "purchase_analysis = pd.DataFrame([{'Number of Unique Items': items,\n",
    "                                  'Average Purchase Price': avg_price,\n",
    "                                  'Total Number of Purchases': purchases,\n",
    "                                  'Total Revenue': revenue}])\n",
    "purchase_analysis"
   ]
  },
  {
   "cell_type": "code",
   "execution_count": 110,
   "metadata": {
    "collapsed": true
   },
   "outputs": [],
   "source": [
    "#Gender Demographics"
   ]
  },
  {
   "cell_type": "code",
   "execution_count": 111,
   "metadata": {
    "scrolled": true
   },
   "outputs": [
    {
     "data": {
      "text/html": [
       "<div>\n",
       "<style>\n",
       "    .dataframe thead tr:only-child th {\n",
       "        text-align: right;\n",
       "    }\n",
       "\n",
       "    .dataframe thead th {\n",
       "        text-align: left;\n",
       "    }\n",
       "\n",
       "    .dataframe tbody tr th {\n",
       "        vertical-align: top;\n",
       "    }\n",
       "</style>\n",
       "<table border=\"1\" class=\"dataframe\">\n",
       "  <thead>\n",
       "    <tr style=\"text-align: right;\">\n",
       "      <th></th>\n",
       "      <th>Age</th>\n",
       "      <th>Gender</th>\n",
       "      <th>Item ID</th>\n",
       "      <th>Item Name</th>\n",
       "      <th>Price</th>\n",
       "      <th>SN</th>\n",
       "    </tr>\n",
       "  </thead>\n",
       "  <tbody>\n",
       "    <tr>\n",
       "      <th>1</th>\n",
       "      <td>21</td>\n",
       "      <td>Male</td>\n",
       "      <td>119</td>\n",
       "      <td>Stormbringer, Dark Blade of Ending Misery</td>\n",
       "      <td>2.32</td>\n",
       "      <td>Eolo46</td>\n",
       "    </tr>\n",
       "    <tr>\n",
       "      <th>3</th>\n",
       "      <td>21</td>\n",
       "      <td>Male</td>\n",
       "      <td>92</td>\n",
       "      <td>Final Critic</td>\n",
       "      <td>1.36</td>\n",
       "      <td>Pheusrical25</td>\n",
       "    </tr>\n",
       "    <tr>\n",
       "      <th>4</th>\n",
       "      <td>23</td>\n",
       "      <td>Male</td>\n",
       "      <td>63</td>\n",
       "      <td>Stormfury Mace</td>\n",
       "      <td>1.27</td>\n",
       "      <td>Aela59</td>\n",
       "    </tr>\n",
       "    <tr>\n",
       "      <th>5</th>\n",
       "      <td>20</td>\n",
       "      <td>Male</td>\n",
       "      <td>10</td>\n",
       "      <td>Sleepwalker</td>\n",
       "      <td>1.73</td>\n",
       "      <td>Tanimnya91</td>\n",
       "    </tr>\n",
       "    <tr>\n",
       "      <th>6</th>\n",
       "      <td>20</td>\n",
       "      <td>Male</td>\n",
       "      <td>153</td>\n",
       "      <td>Mercenary Sabre</td>\n",
       "      <td>4.57</td>\n",
       "      <td>Undjaskla97</td>\n",
       "    </tr>\n",
       "  </tbody>\n",
       "</table>\n",
       "</div>"
      ],
      "text/plain": [
       "   Age Gender  Item ID                                  Item Name  Price  \\\n",
       "1   21   Male      119  Stormbringer, Dark Blade of Ending Misery   2.32   \n",
       "3   21   Male       92                               Final Critic   1.36   \n",
       "4   23   Male       63                             Stormfury Mace   1.27   \n",
       "5   20   Male       10                                Sleepwalker   1.73   \n",
       "6   20   Male      153                            Mercenary Sabre   4.57   \n",
       "\n",
       "             SN  \n",
       "1        Eolo46  \n",
       "3  Pheusrical25  \n",
       "4        Aela59  \n",
       "5    Tanimnya91  \n",
       "6   Undjaskla97  "
      ]
     },
     "execution_count": 111,
     "metadata": {},
     "output_type": "execute_result"
    }
   ],
   "source": [
    "#Create players dataframe without duplicate players\n",
    "unique_players = pymoli_df.drop_duplicates(['SN'], keep ='last')\n",
    "unique_players.head()"
   ]
  },
  {
   "cell_type": "code",
   "execution_count": 112,
   "metadata": {},
   "outputs": [
    {
     "data": {
      "text/html": [
       "<div>\n",
       "<style>\n",
       "    .dataframe thead tr:only-child th {\n",
       "        text-align: right;\n",
       "    }\n",
       "\n",
       "    .dataframe thead th {\n",
       "        text-align: left;\n",
       "    }\n",
       "\n",
       "    .dataframe tbody tr th {\n",
       "        vertical-align: top;\n",
       "    }\n",
       "</style>\n",
       "<table border=\"1\" class=\"dataframe\">\n",
       "  <thead>\n",
       "    <tr style=\"text-align: right;\">\n",
       "      <th></th>\n",
       "      <th>Gender</th>\n",
       "      <th>Total Count</th>\n",
       "      <th>Percentage of Players</th>\n",
       "    </tr>\n",
       "  </thead>\n",
       "  <tbody>\n",
       "    <tr>\n",
       "      <th>0</th>\n",
       "      <td>Male</td>\n",
       "      <td>465</td>\n",
       "      <td>81.15</td>\n",
       "    </tr>\n",
       "    <tr>\n",
       "      <th>1</th>\n",
       "      <td>Female</td>\n",
       "      <td>100</td>\n",
       "      <td>17.45</td>\n",
       "    </tr>\n",
       "    <tr>\n",
       "      <th>2</th>\n",
       "      <td>Other / Non-Disclosed</td>\n",
       "      <td>8</td>\n",
       "      <td>1.40</td>\n",
       "    </tr>\n",
       "  </tbody>\n",
       "</table>\n",
       "</div>"
      ],
      "text/plain": [
       "                  Gender  Total Count  Percentage of Players\n",
       "0                   Male          465                  81.15\n",
       "1                 Female          100                  17.45\n",
       "2  Other / Non-Disclosed            8                   1.40"
      ]
     },
     "execution_count": 112,
     "metadata": {},
     "output_type": "execute_result"
    }
   ],
   "source": [
    "#Count total players by gender\n",
    "gender_total = unique_players[\"Gender\"].value_counts().reset_index()\n",
    "#Rename columns for clarity\n",
    "gender_total.rename(columns = {'index': 'Gender', 'Gender': 'Total Count'}, inplace = True)\n",
    "#Calculate percentage of players that fall into each gender category\n",
    "gender_percent = gender_total[\"Total Count\"]/players*100\n",
    "gender_percent\n",
    "#Add gender percentage column to dataframe\n",
    "gender_total[\"Percentage of Players\"] = gender_percent.round(2)\n",
    "gender_total"
   ]
  },
  {
   "cell_type": "code",
   "execution_count": 113,
   "metadata": {
    "collapsed": true
   },
   "outputs": [],
   "source": [
    "#Purchasing Analysis - Gender"
   ]
  },
  {
   "cell_type": "code",
   "execution_count": 114,
   "metadata": {},
   "outputs": [
    {
     "data": {
      "text/html": [
       "<div>\n",
       "<style>\n",
       "    .dataframe thead tr:only-child th {\n",
       "        text-align: right;\n",
       "    }\n",
       "\n",
       "    .dataframe thead th {\n",
       "        text-align: left;\n",
       "    }\n",
       "\n",
       "    .dataframe tbody tr th {\n",
       "        vertical-align: top;\n",
       "    }\n",
       "</style>\n",
       "<table border=\"1\" class=\"dataframe\">\n",
       "  <thead>\n",
       "    <tr style=\"text-align: right;\">\n",
       "      <th></th>\n",
       "      <th>Average Purchase Price</th>\n",
       "    </tr>\n",
       "    <tr>\n",
       "      <th>Gender</th>\n",
       "      <th></th>\n",
       "    </tr>\n",
       "  </thead>\n",
       "  <tbody>\n",
       "    <tr>\n",
       "      <th>Female</th>\n",
       "      <td>2.82</td>\n",
       "    </tr>\n",
       "    <tr>\n",
       "      <th>Male</th>\n",
       "      <td>2.95</td>\n",
       "    </tr>\n",
       "    <tr>\n",
       "      <th>Other / Non-Disclosed</th>\n",
       "      <td>3.25</td>\n",
       "    </tr>\n",
       "  </tbody>\n",
       "</table>\n",
       "</div>"
      ],
      "text/plain": [
       "                       Average Purchase Price\n",
       "Gender                                       \n",
       "Female                                   2.82\n",
       "Male                                     2.95\n",
       "Other / Non-Disclosed                    3.25"
      ]
     },
     "execution_count": 114,
     "metadata": {},
     "output_type": "execute_result"
    }
   ],
   "source": [
    "#Create dataframe for average price by gender\n",
    "purchase_price_gender = pd.DataFrame(round(pymoli_df.groupby('Gender')['Price'].mean(),2))\n",
    "#Rename and format price column\n",
    "purchase_price_gender.rename(columns = {'Price': 'Average Purchase Price'}, inplace = True)\n",
    "purchase_price_gender"
   ]
  },
  {
   "cell_type": "code",
   "execution_count": 115,
   "metadata": {},
   "outputs": [
    {
     "data": {
      "text/html": [
       "<div>\n",
       "<style>\n",
       "    .dataframe thead tr:only-child th {\n",
       "        text-align: right;\n",
       "    }\n",
       "\n",
       "    .dataframe thead th {\n",
       "        text-align: left;\n",
       "    }\n",
       "\n",
       "    .dataframe tbody tr th {\n",
       "        vertical-align: top;\n",
       "    }\n",
       "</style>\n",
       "<table border=\"1\" class=\"dataframe\">\n",
       "  <thead>\n",
       "    <tr style=\"text-align: right;\">\n",
       "      <th></th>\n",
       "      <th>Price</th>\n",
       "    </tr>\n",
       "    <tr>\n",
       "      <th>Gender</th>\n",
       "      <th></th>\n",
       "    </tr>\n",
       "  </thead>\n",
       "  <tbody>\n",
       "    <tr>\n",
       "      <th>Female</th>\n",
       "      <td>382.91</td>\n",
       "    </tr>\n",
       "    <tr>\n",
       "      <th>Male</th>\n",
       "      <td>1867.68</td>\n",
       "    </tr>\n",
       "    <tr>\n",
       "      <th>Other / Non-Disclosed</th>\n",
       "      <td>35.74</td>\n",
       "    </tr>\n",
       "  </tbody>\n",
       "</table>\n",
       "</div>"
      ],
      "text/plain": [
       "                         Price\n",
       "Gender                        \n",
       "Female                  382.91\n",
       "Male                   1867.68\n",
       "Other / Non-Disclosed    35.74"
      ]
     },
     "execution_count": 115,
     "metadata": {},
     "output_type": "execute_result"
    }
   ],
   "source": [
    "#Calculate total purchase value by gender\n",
    "purchase_total_gender = pd.DataFrame(pymoli_df.groupby('Gender')['Price'].sum())\n",
    "purchase_total_gender"
   ]
  },
  {
   "cell_type": "code",
   "execution_count": 116,
   "metadata": {},
   "outputs": [
    {
     "data": {
      "text/html": [
       "<div>\n",
       "<style>\n",
       "    .dataframe thead tr:only-child th {\n",
       "        text-align: right;\n",
       "    }\n",
       "\n",
       "    .dataframe thead th {\n",
       "        text-align: left;\n",
       "    }\n",
       "\n",
       "    .dataframe tbody tr th {\n",
       "        vertical-align: top;\n",
       "    }\n",
       "</style>\n",
       "<table border=\"1\" class=\"dataframe\">\n",
       "  <thead>\n",
       "    <tr style=\"text-align: right;\">\n",
       "      <th></th>\n",
       "      <th>Total Purchase Value</th>\n",
       "    </tr>\n",
       "    <tr>\n",
       "      <th>Gender</th>\n",
       "      <th></th>\n",
       "    </tr>\n",
       "  </thead>\n",
       "  <tbody>\n",
       "    <tr>\n",
       "      <th>Female</th>\n",
       "      <td>382.91</td>\n",
       "    </tr>\n",
       "    <tr>\n",
       "      <th>Male</th>\n",
       "      <td>1867.68</td>\n",
       "    </tr>\n",
       "    <tr>\n",
       "      <th>Other / Non-Disclosed</th>\n",
       "      <td>35.74</td>\n",
       "    </tr>\n",
       "  </tbody>\n",
       "</table>\n",
       "</div>"
      ],
      "text/plain": [
       "                       Total Purchase Value\n",
       "Gender                                     \n",
       "Female                               382.91\n",
       "Male                                1867.68\n",
       "Other / Non-Disclosed                 35.74"
      ]
     },
     "execution_count": 116,
     "metadata": {},
     "output_type": "execute_result"
    }
   ],
   "source": [
    "#Rename column\n",
    "purchase_total_gender.rename(columns = {'Price': 'Total Purchase Value'}, inplace = True)\n",
    "purchase_total_gender"
   ]
  },
  {
   "cell_type": "code",
   "execution_count": 117,
   "metadata": {},
   "outputs": [
    {
     "data": {
      "text/html": [
       "<div>\n",
       "<style>\n",
       "    .dataframe thead tr:only-child th {\n",
       "        text-align: right;\n",
       "    }\n",
       "\n",
       "    .dataframe thead th {\n",
       "        text-align: left;\n",
       "    }\n",
       "\n",
       "    .dataframe tbody tr th {\n",
       "        vertical-align: top;\n",
       "    }\n",
       "</style>\n",
       "<table border=\"1\" class=\"dataframe\">\n",
       "  <thead>\n",
       "    <tr style=\"text-align: right;\">\n",
       "      <th></th>\n",
       "      <th>Average Purchase Price</th>\n",
       "      <th>Total Purchase Value</th>\n",
       "    </tr>\n",
       "    <tr>\n",
       "      <th>Gender</th>\n",
       "      <th></th>\n",
       "      <th></th>\n",
       "    </tr>\n",
       "  </thead>\n",
       "  <tbody>\n",
       "    <tr>\n",
       "      <th>Female</th>\n",
       "      <td>2.82</td>\n",
       "      <td>382.91</td>\n",
       "    </tr>\n",
       "    <tr>\n",
       "      <th>Male</th>\n",
       "      <td>2.95</td>\n",
       "      <td>1867.68</td>\n",
       "    </tr>\n",
       "    <tr>\n",
       "      <th>Other / Non-Disclosed</th>\n",
       "      <td>3.25</td>\n",
       "      <td>35.74</td>\n",
       "    </tr>\n",
       "  </tbody>\n",
       "</table>\n",
       "</div>"
      ],
      "text/plain": [
       "                       Average Purchase Price  Total Purchase Value\n",
       "Gender                                                             \n",
       "Female                                   2.82                382.91\n",
       "Male                                     2.95               1867.68\n",
       "Other / Non-Disclosed                    3.25                 35.74"
      ]
     },
     "execution_count": 117,
     "metadata": {},
     "output_type": "execute_result"
    }
   ],
   "source": [
    "#Merge average price and purchase count dataframes\n",
    "purchase_analysis_gender = pd.merge(purchase_price_gender, purchase_total_gender, left_index = True, right_index = True)\n",
    "purchase_analysis_gender"
   ]
  },
  {
   "cell_type": "code",
   "execution_count": 118,
   "metadata": {},
   "outputs": [
    {
     "data": {
      "text/html": [
       "<div>\n",
       "<style>\n",
       "    .dataframe thead tr:only-child th {\n",
       "        text-align: right;\n",
       "    }\n",
       "\n",
       "    .dataframe thead th {\n",
       "        text-align: left;\n",
       "    }\n",
       "\n",
       "    .dataframe tbody tr th {\n",
       "        vertical-align: top;\n",
       "    }\n",
       "</style>\n",
       "<table border=\"1\" class=\"dataframe\">\n",
       "  <thead>\n",
       "    <tr style=\"text-align: right;\">\n",
       "      <th></th>\n",
       "      <th>SN</th>\n",
       "    </tr>\n",
       "    <tr>\n",
       "      <th>Gender</th>\n",
       "      <th></th>\n",
       "    </tr>\n",
       "  </thead>\n",
       "  <tbody>\n",
       "    <tr>\n",
       "      <th>Female</th>\n",
       "      <td>136</td>\n",
       "    </tr>\n",
       "    <tr>\n",
       "      <th>Male</th>\n",
       "      <td>633</td>\n",
       "    </tr>\n",
       "    <tr>\n",
       "      <th>Other / Non-Disclosed</th>\n",
       "      <td>11</td>\n",
       "    </tr>\n",
       "  </tbody>\n",
       "</table>\n",
       "</div>"
      ],
      "text/plain": [
       "                        SN\n",
       "Gender                    \n",
       "Female                 136\n",
       "Male                   633\n",
       "Other / Non-Disclosed   11"
      ]
     },
     "execution_count": 118,
     "metadata": {},
     "output_type": "execute_result"
    }
   ],
   "source": [
    "#Count number of players in each gender category\n",
    "players_by_gender = pd.DataFrame(pymoli_df.groupby('Gender')['SN'].count())\n",
    "players_by_gender"
   ]
  },
  {
   "cell_type": "code",
   "execution_count": 148,
   "metadata": {},
   "outputs": [
    {
     "data": {
      "text/html": [
       "<div>\n",
       "<style>\n",
       "    .dataframe thead tr:only-child th {\n",
       "        text-align: right;\n",
       "    }\n",
       "\n",
       "    .dataframe thead th {\n",
       "        text-align: left;\n",
       "    }\n",
       "\n",
       "    .dataframe tbody tr th {\n",
       "        vertical-align: top;\n",
       "    }\n",
       "</style>\n",
       "<table border=\"1\" class=\"dataframe\">\n",
       "  <thead>\n",
       "    <tr style=\"text-align: right;\">\n",
       "      <th></th>\n",
       "      <th>Average Purchase Price</th>\n",
       "      <th>Total Purchase Value_x</th>\n",
       "      <th>Total Purchase Value_y</th>\n",
       "    </tr>\n",
       "    <tr>\n",
       "      <th>Gender</th>\n",
       "      <th></th>\n",
       "      <th></th>\n",
       "      <th></th>\n",
       "    </tr>\n",
       "  </thead>\n",
       "  <tbody>\n",
       "    <tr>\n",
       "      <th>Female</th>\n",
       "      <td>2.82</td>\n",
       "      <td>382.91</td>\n",
       "      <td>382.91</td>\n",
       "    </tr>\n",
       "    <tr>\n",
       "      <th>Male</th>\n",
       "      <td>2.95</td>\n",
       "      <td>1867.68</td>\n",
       "      <td>1867.68</td>\n",
       "    </tr>\n",
       "    <tr>\n",
       "      <th>Other / Non-Disclosed</th>\n",
       "      <td>3.25</td>\n",
       "      <td>35.74</td>\n",
       "      <td>35.74</td>\n",
       "    </tr>\n",
       "  </tbody>\n",
       "</table>\n",
       "</div>"
      ],
      "text/plain": [
       "                       Average Purchase Price  Total Purchase Value_x  \\\n",
       "Gender                                                                  \n",
       "Female                                   2.82                  382.91   \n",
       "Male                                     2.95                 1867.68   \n",
       "Other / Non-Disclosed                    3.25                   35.74   \n",
       "\n",
       "                       Total Purchase Value_y  \n",
       "Gender                                         \n",
       "Female                                 382.91  \n",
       "Male                                  1867.68  \n",
       "Other / Non-Disclosed                   35.74  "
      ]
     },
     "execution_count": 148,
     "metadata": {},
     "output_type": "execute_result"
    }
   ],
   "source": [
    "#Add column for total purchase value to previous dataframe\n",
    "gender_purchase_analysis = pd.merge(purchase_analysis_gender, purchase_total_gender, left_index = True, right_index = True)\n",
    "gender_purchase_analysis.rename(columns = {'Price': 'Average Purchase Price'}, inplace = True)\n",
    "gender_purchase_analysis"
   ]
  },
  {
   "cell_type": "code",
   "execution_count": 149,
   "metadata": {},
   "outputs": [],
   "source": [
    "#Drop the duplicate column\n",
    "del gender_purchase_analysis['Total Purchase Value_y']"
   ]
  },
  {
   "cell_type": "code",
   "execution_count": 151,
   "metadata": {},
   "outputs": [
    {
     "data": {
      "text/html": [
       "<div>\n",
       "<style>\n",
       "    .dataframe thead tr:only-child th {\n",
       "        text-align: right;\n",
       "    }\n",
       "\n",
       "    .dataframe thead th {\n",
       "        text-align: left;\n",
       "    }\n",
       "\n",
       "    .dataframe tbody tr th {\n",
       "        vertical-align: top;\n",
       "    }\n",
       "</style>\n",
       "<table border=\"1\" class=\"dataframe\">\n",
       "  <thead>\n",
       "    <tr style=\"text-align: right;\">\n",
       "      <th></th>\n",
       "      <th>Average Purchase Price</th>\n",
       "      <th>Total Purchase Value</th>\n",
       "    </tr>\n",
       "    <tr>\n",
       "      <th>Gender</th>\n",
       "      <th></th>\n",
       "      <th></th>\n",
       "    </tr>\n",
       "  </thead>\n",
       "  <tbody>\n",
       "    <tr>\n",
       "      <th>Female</th>\n",
       "      <td>2.82</td>\n",
       "      <td>382.91</td>\n",
       "    </tr>\n",
       "    <tr>\n",
       "      <th>Male</th>\n",
       "      <td>2.95</td>\n",
       "      <td>1867.68</td>\n",
       "    </tr>\n",
       "    <tr>\n",
       "      <th>Other / Non-Disclosed</th>\n",
       "      <td>3.25</td>\n",
       "      <td>35.74</td>\n",
       "    </tr>\n",
       "  </tbody>\n",
       "</table>\n",
       "</div>"
      ],
      "text/plain": [
       "                       Average Purchase Price  Total Purchase Value\n",
       "Gender                                                             \n",
       "Female                                   2.82                382.91\n",
       "Male                                     2.95               1867.68\n",
       "Other / Non-Disclosed                    3.25                 35.74"
      ]
     },
     "execution_count": 151,
     "metadata": {},
     "output_type": "execute_result"
    }
   ],
   "source": [
    "#Rename column\n",
    "gender_purchase_analysis.rename(columns = {'Total Purchase Value_x': 'Total Purchase Value'}, inplace = True)\n",
    "gender_purchase_analysis"
   ]
  },
  {
   "cell_type": "code",
   "execution_count": 152,
   "metadata": {},
   "outputs": [
    {
     "data": {
      "text/plain": [
       "Gender\n",
       "Female                   2.815515\n",
       "Male                     2.950521\n",
       "Other / Non-Disclosed    3.249091\n",
       "dtype: float64"
      ]
     },
     "execution_count": 152,
     "metadata": {},
     "output_type": "execute_result"
    }
   ],
   "source": [
    "#Calculate normalized totals\n",
    "normalized_totals = gender_purchase_analysis['Total Purchase Value']/players_by_gender['SN']\n",
    "normalized_totals"
   ]
  },
  {
   "cell_type": "code",
   "execution_count": 153,
   "metadata": {},
   "outputs": [
    {
     "data": {
      "text/html": [
       "<div>\n",
       "<style>\n",
       "    .dataframe thead tr:only-child th {\n",
       "        text-align: right;\n",
       "    }\n",
       "\n",
       "    .dataframe thead th {\n",
       "        text-align: left;\n",
       "    }\n",
       "\n",
       "    .dataframe tbody tr th {\n",
       "        vertical-align: top;\n",
       "    }\n",
       "</style>\n",
       "<table border=\"1\" class=\"dataframe\">\n",
       "  <thead>\n",
       "    <tr style=\"text-align: right;\">\n",
       "      <th></th>\n",
       "      <th>Average Purchase Price</th>\n",
       "      <th>Total Purchase Value</th>\n",
       "      <th>Normalized Totals</th>\n",
       "    </tr>\n",
       "    <tr>\n",
       "      <th>Gender</th>\n",
       "      <th></th>\n",
       "      <th></th>\n",
       "      <th></th>\n",
       "    </tr>\n",
       "  </thead>\n",
       "  <tbody>\n",
       "    <tr>\n",
       "      <th>Female</th>\n",
       "      <td>2.82</td>\n",
       "      <td>382.91</td>\n",
       "      <td>2.82</td>\n",
       "    </tr>\n",
       "    <tr>\n",
       "      <th>Male</th>\n",
       "      <td>2.95</td>\n",
       "      <td>1867.68</td>\n",
       "      <td>2.95</td>\n",
       "    </tr>\n",
       "    <tr>\n",
       "      <th>Other / Non-Disclosed</th>\n",
       "      <td>3.25</td>\n",
       "      <td>35.74</td>\n",
       "      <td>3.25</td>\n",
       "    </tr>\n",
       "  </tbody>\n",
       "</table>\n",
       "</div>"
      ],
      "text/plain": [
       "                       Average Purchase Price  Total Purchase Value  \\\n",
       "Gender                                                                \n",
       "Female                                   2.82                382.91   \n",
       "Male                                     2.95               1867.68   \n",
       "Other / Non-Disclosed                    3.25                 35.74   \n",
       "\n",
       "                       Normalized Totals  \n",
       "Gender                                    \n",
       "Female                              2.82  \n",
       "Male                                2.95  \n",
       "Other / Non-Disclosed               3.25  "
      ]
     },
     "execution_count": 153,
     "metadata": {},
     "output_type": "execute_result"
    }
   ],
   "source": [
    "#Add column for normalized totals \n",
    "gender_purchase_analysis[\"Normalized Totals\"] = normalized_totals.round(2)\n",
    "gender_purchase_analysis"
   ]
  },
  {
   "cell_type": "code",
   "execution_count": 154,
   "metadata": {
    "collapsed": true
   },
   "outputs": [],
   "source": [
    "#Age Demographics"
   ]
  },
  {
   "cell_type": "code",
   "execution_count": 155,
   "metadata": {},
   "outputs": [
    {
     "name": "stdout",
     "output_type": "stream",
     "text": [
      "7\n",
      "45\n"
     ]
    }
   ],
   "source": [
    "#Print minimum and maximum age values\n",
    "print(pymoli_df[\"Age\"].min())\n",
    "print(pymoli_df[\"Age\"].max())"
   ]
  },
  {
   "cell_type": "code",
   "execution_count": 156,
   "metadata": {
    "collapsed": true
   },
   "outputs": [],
   "source": [
    "#Create bins for age groups\n",
    "age = [0,10,15,20,25,30,35,40,100]\n",
    "\n",
    "# Create labels for these bins\n",
    "group_labels = [\"<10\",\"10-14\",\"15-19\",\"20-24\",\"25-29\",\"30-34\",\"35-39\",\"40+\"]"
   ]
  },
  {
   "cell_type": "code",
   "execution_count": 157,
   "metadata": {
    "collapsed": true
   },
   "outputs": [],
   "source": [
    "#Create age range conditions\n",
    "pymoli_df.loc[(pymoli_df['Age'] < 10), 'age'] = \"0 - 10\"\n",
    "pymoli_df.loc[(pymoli_df['Age'] >= 10) & (pymoli_df['Age'] <= 14), 'age'] = \"10 - 14\"\n",
    "pymoli_df.loc[(pymoli_df['Age'] >= 15) & (pymoli_df['Age'] <= 19), 'age'] = \"15 - 19\"\n",
    "pymoli_df.loc[(pymoli_df['Age'] >= 20) & (pymoli_df['Age'] <= 24), 'age'] = \"20 - 24\"\n",
    "pymoli_df.loc[(pymoli_df['Age'] >= 25) & (pymoli_df['Age'] <= 29), 'age'] = \"25 - 29\"\n",
    "pymoli_df.loc[(pymoli_df['Age'] >= 30) & (pymoli_df['Age'] <= 34), 'age'] = \"30 - 34\"\n",
    "pymoli_df.loc[(pymoli_df['Age'] >= 35) & (pymoli_df['Age'] <= 39), 'age'] = \"35 - 39\"\n",
    "pymoli_df.loc[(pymoli_df['Age'] >= 40), 'age'] = \"40+\""
   ]
  },
  {
   "cell_type": "code",
   "execution_count": 158,
   "metadata": {},
   "outputs": [
    {
     "data": {
      "text/html": [
       "<div>\n",
       "<style>\n",
       "    .dataframe thead tr:only-child th {\n",
       "        text-align: right;\n",
       "    }\n",
       "\n",
       "    .dataframe thead th {\n",
       "        text-align: left;\n",
       "    }\n",
       "\n",
       "    .dataframe tbody tr th {\n",
       "        vertical-align: top;\n",
       "    }\n",
       "</style>\n",
       "<table border=\"1\" class=\"dataframe\">\n",
       "  <thead>\n",
       "    <tr style=\"text-align: right;\">\n",
       "      <th></th>\n",
       "      <th>Purchase Count</th>\n",
       "    </tr>\n",
       "    <tr>\n",
       "      <th>age</th>\n",
       "      <th></th>\n",
       "    </tr>\n",
       "  </thead>\n",
       "  <tbody>\n",
       "    <tr>\n",
       "      <th>0 - 10</th>\n",
       "      <td>28</td>\n",
       "    </tr>\n",
       "    <tr>\n",
       "      <th>10 - 14</th>\n",
       "      <td>35</td>\n",
       "    </tr>\n",
       "    <tr>\n",
       "      <th>15 - 19</th>\n",
       "      <td>133</td>\n",
       "    </tr>\n",
       "    <tr>\n",
       "      <th>20 - 24</th>\n",
       "      <td>336</td>\n",
       "    </tr>\n",
       "    <tr>\n",
       "      <th>25 - 29</th>\n",
       "      <td>125</td>\n",
       "    </tr>\n",
       "    <tr>\n",
       "      <th>30 - 34</th>\n",
       "      <td>64</td>\n",
       "    </tr>\n",
       "    <tr>\n",
       "      <th>35 - 39</th>\n",
       "      <td>42</td>\n",
       "    </tr>\n",
       "    <tr>\n",
       "      <th>40+</th>\n",
       "      <td>17</td>\n",
       "    </tr>\n",
       "  </tbody>\n",
       "</table>\n",
       "</div>"
      ],
      "text/plain": [
       "         Purchase Count\n",
       "age                    \n",
       "0 - 10               28\n",
       "10 - 14              35\n",
       "15 - 19             133\n",
       "20 - 24             336\n",
       "25 - 29             125\n",
       "30 - 34              64\n",
       "35 - 39              42\n",
       "40+                  17"
      ]
     },
     "execution_count": 158,
     "metadata": {},
     "output_type": "execute_result"
    }
   ],
   "source": [
    "#Count number of purchases by users within each age range\n",
    "age_purchase_count = pd.DataFrame(pymoli_df.groupby('age')['SN'].count())\n",
    "#Rename column\n",
    "age_purchase_count.rename(columns = {'SN': 'Purchase Count'}, inplace = True)\n",
    "age_purchase_count"
   ]
  },
  {
   "cell_type": "code",
   "execution_count": 159,
   "metadata": {},
   "outputs": [
    {
     "data": {
      "text/html": [
       "<div>\n",
       "<style>\n",
       "    .dataframe thead tr:only-child th {\n",
       "        text-align: right;\n",
       "    }\n",
       "\n",
       "    .dataframe thead th {\n",
       "        text-align: left;\n",
       "    }\n",
       "\n",
       "    .dataframe tbody tr th {\n",
       "        vertical-align: top;\n",
       "    }\n",
       "</style>\n",
       "<table border=\"1\" class=\"dataframe\">\n",
       "  <thead>\n",
       "    <tr style=\"text-align: right;\">\n",
       "      <th></th>\n",
       "      <th>Number of Buyers</th>\n",
       "    </tr>\n",
       "    <tr>\n",
       "      <th>age</th>\n",
       "      <th></th>\n",
       "    </tr>\n",
       "  </thead>\n",
       "  <tbody>\n",
       "    <tr>\n",
       "      <th>0 - 10</th>\n",
       "      <td>19</td>\n",
       "    </tr>\n",
       "    <tr>\n",
       "      <th>10 - 14</th>\n",
       "      <td>23</td>\n",
       "    </tr>\n",
       "    <tr>\n",
       "      <th>15 - 19</th>\n",
       "      <td>100</td>\n",
       "    </tr>\n",
       "    <tr>\n",
       "      <th>20 - 24</th>\n",
       "      <td>259</td>\n",
       "    </tr>\n",
       "    <tr>\n",
       "      <th>25 - 29</th>\n",
       "      <td>87</td>\n",
       "    </tr>\n",
       "    <tr>\n",
       "      <th>30 - 34</th>\n",
       "      <td>47</td>\n",
       "    </tr>\n",
       "    <tr>\n",
       "      <th>35 - 39</th>\n",
       "      <td>27</td>\n",
       "    </tr>\n",
       "    <tr>\n",
       "      <th>40+</th>\n",
       "      <td>11</td>\n",
       "    </tr>\n",
       "  </tbody>\n",
       "</table>\n",
       "</div>"
      ],
      "text/plain": [
       "         Number of Buyers\n",
       "age                      \n",
       "0 - 10                 19\n",
       "10 - 14                23\n",
       "15 - 19               100\n",
       "20 - 24               259\n",
       "25 - 29                87\n",
       "30 - 34                47\n",
       "35 - 39                27\n",
       "40+                    11"
      ]
     },
     "execution_count": 159,
     "metadata": {},
     "output_type": "execute_result"
    }
   ],
   "source": [
    "#Count number of unique players within each age range\n",
    "age_purchase_count_unique = pd.DataFrame(pymoli_df.groupby('age')['SN'].nunique())\n",
    "#Rename column\n",
    "age_purchase_count_unique.rename(columns = {'SN': 'Number of Buyers'}, inplace = True)\n",
    "age_purchase_count_unique"
   ]
  },
  {
   "cell_type": "code",
   "execution_count": 160,
   "metadata": {
    "collapsed": true
   },
   "outputs": [],
   "source": [
    "#Calculate average purchase price within age ranges\n",
    "age_average_price = pd.DataFrame(round(pymoli_df.groupby('age')['Price'].mean(),2))"
   ]
  },
  {
   "cell_type": "code",
   "execution_count": 161,
   "metadata": {
    "collapsed": true
   },
   "outputs": [],
   "source": [
    "#Calculate total purchase price within age ranges\n",
    "age_total_value = pd.DataFrame(round(pymoli_df.groupby('age')['Price'].sum(),2))"
   ]
  },
  {
   "cell_type": "code",
   "execution_count": 162,
   "metadata": {},
   "outputs": [
    {
     "data": {
      "text/html": [
       "<div>\n",
       "<style>\n",
       "    .dataframe thead tr:only-child th {\n",
       "        text-align: right;\n",
       "    }\n",
       "\n",
       "    .dataframe thead th {\n",
       "        text-align: left;\n",
       "    }\n",
       "\n",
       "    .dataframe tbody tr th {\n",
       "        vertical-align: top;\n",
       "    }\n",
       "</style>\n",
       "<table border=\"1\" class=\"dataframe\">\n",
       "  <thead>\n",
       "    <tr style=\"text-align: right;\">\n",
       "      <th></th>\n",
       "      <th>Purchase Count</th>\n",
       "      <th>Average Purchase Price</th>\n",
       "      <th>Total Purchase Value</th>\n",
       "    </tr>\n",
       "    <tr>\n",
       "      <th>age</th>\n",
       "      <th></th>\n",
       "      <th></th>\n",
       "      <th></th>\n",
       "    </tr>\n",
       "  </thead>\n",
       "  <tbody>\n",
       "    <tr>\n",
       "      <th>0 - 10</th>\n",
       "      <td>28</td>\n",
       "      <td>2.98</td>\n",
       "      <td>83.46</td>\n",
       "    </tr>\n",
       "    <tr>\n",
       "      <th>10 - 14</th>\n",
       "      <td>35</td>\n",
       "      <td>2.77</td>\n",
       "      <td>96.95</td>\n",
       "    </tr>\n",
       "    <tr>\n",
       "      <th>15 - 19</th>\n",
       "      <td>133</td>\n",
       "      <td>2.91</td>\n",
       "      <td>386.42</td>\n",
       "    </tr>\n",
       "    <tr>\n",
       "      <th>20 - 24</th>\n",
       "      <td>336</td>\n",
       "      <td>2.91</td>\n",
       "      <td>978.77</td>\n",
       "    </tr>\n",
       "    <tr>\n",
       "      <th>25 - 29</th>\n",
       "      <td>125</td>\n",
       "      <td>2.96</td>\n",
       "      <td>370.33</td>\n",
       "    </tr>\n",
       "    <tr>\n",
       "      <th>30 - 34</th>\n",
       "      <td>64</td>\n",
       "      <td>3.08</td>\n",
       "      <td>197.25</td>\n",
       "    </tr>\n",
       "    <tr>\n",
       "      <th>35 - 39</th>\n",
       "      <td>42</td>\n",
       "      <td>2.84</td>\n",
       "      <td>119.40</td>\n",
       "    </tr>\n",
       "    <tr>\n",
       "      <th>40+</th>\n",
       "      <td>17</td>\n",
       "      <td>3.16</td>\n",
       "      <td>53.75</td>\n",
       "    </tr>\n",
       "  </tbody>\n",
       "</table>\n",
       "</div>"
      ],
      "text/plain": [
       "         Purchase Count  Average Purchase Price  Total Purchase Value\n",
       "age                                                                  \n",
       "0 - 10               28                    2.98                 83.46\n",
       "10 - 14              35                    2.77                 96.95\n",
       "15 - 19             133                    2.91                386.42\n",
       "20 - 24             336                    2.91                978.77\n",
       "25 - 29             125                    2.96                370.33\n",
       "30 - 34              64                    3.08                197.25\n",
       "35 - 39              42                    2.84                119.40\n",
       "40+                  17                    3.16                 53.75"
      ]
     },
     "execution_count": 162,
     "metadata": {},
     "output_type": "execute_result"
    }
   ],
   "source": [
    "#Create dataframe of purchase info\n",
    "age_demographics = pd.merge(age_purchase_count, age_average_price, left_index = True, right_index = True)\n",
    "age_demographics = pd.merge(age_demographics, age_total_value, left_index = True, right_index = True)\n",
    "#Rename columns\n",
    "age_demographics.rename(columns = {'Price_x': 'Average Purchase Price', 'Price_y': 'Total Purchase Value'}, inplace = True)\n",
    "age_demographics"
   ]
  },
  {
   "cell_type": "code",
   "execution_count": 163,
   "metadata": {},
   "outputs": [
    {
     "data": {
      "text/plain": [
       "age\n",
       "0 - 10     4.39\n",
       "10 - 14    4.22\n",
       "15 - 19    3.86\n",
       "20 - 24    3.78\n",
       "25 - 29    4.26\n",
       "30 - 34    4.20\n",
       "35 - 39    4.42\n",
       "40+        4.89\n",
       "dtype: float64"
      ]
     },
     "execution_count": 163,
     "metadata": {},
     "output_type": "execute_result"
    }
   ],
   "source": [
    "#Calculate normalized totals\n",
    "age_normalized_totals = round(age_demographics['Total Purchase Value']/age_purchase_count_unique['Number of Buyers'],2)\n",
    "age_normalized_totals"
   ]
  },
  {
   "cell_type": "code",
   "execution_count": 164,
   "metadata": {},
   "outputs": [
    {
     "data": {
      "text/html": [
       "<div>\n",
       "<style>\n",
       "    .dataframe thead tr:only-child th {\n",
       "        text-align: right;\n",
       "    }\n",
       "\n",
       "    .dataframe thead th {\n",
       "        text-align: left;\n",
       "    }\n",
       "\n",
       "    .dataframe tbody tr th {\n",
       "        vertical-align: top;\n",
       "    }\n",
       "</style>\n",
       "<table border=\"1\" class=\"dataframe\">\n",
       "  <thead>\n",
       "    <tr style=\"text-align: right;\">\n",
       "      <th></th>\n",
       "      <th>Purchase Count</th>\n",
       "      <th>Average Purchase Price</th>\n",
       "      <th>Total Purchase Value</th>\n",
       "      <th>Normalized Totals</th>\n",
       "    </tr>\n",
       "    <tr>\n",
       "      <th>age</th>\n",
       "      <th></th>\n",
       "      <th></th>\n",
       "      <th></th>\n",
       "      <th></th>\n",
       "    </tr>\n",
       "  </thead>\n",
       "  <tbody>\n",
       "    <tr>\n",
       "      <th>0 - 10</th>\n",
       "      <td>28</td>\n",
       "      <td>2.98</td>\n",
       "      <td>83.46</td>\n",
       "      <td>4.39</td>\n",
       "    </tr>\n",
       "    <tr>\n",
       "      <th>10 - 14</th>\n",
       "      <td>35</td>\n",
       "      <td>2.77</td>\n",
       "      <td>96.95</td>\n",
       "      <td>4.22</td>\n",
       "    </tr>\n",
       "    <tr>\n",
       "      <th>15 - 19</th>\n",
       "      <td>133</td>\n",
       "      <td>2.91</td>\n",
       "      <td>386.42</td>\n",
       "      <td>3.86</td>\n",
       "    </tr>\n",
       "    <tr>\n",
       "      <th>20 - 24</th>\n",
       "      <td>336</td>\n",
       "      <td>2.91</td>\n",
       "      <td>978.77</td>\n",
       "      <td>3.78</td>\n",
       "    </tr>\n",
       "    <tr>\n",
       "      <th>25 - 29</th>\n",
       "      <td>125</td>\n",
       "      <td>2.96</td>\n",
       "      <td>370.33</td>\n",
       "      <td>4.26</td>\n",
       "    </tr>\n",
       "    <tr>\n",
       "      <th>30 - 34</th>\n",
       "      <td>64</td>\n",
       "      <td>3.08</td>\n",
       "      <td>197.25</td>\n",
       "      <td>4.20</td>\n",
       "    </tr>\n",
       "    <tr>\n",
       "      <th>35 - 39</th>\n",
       "      <td>42</td>\n",
       "      <td>2.84</td>\n",
       "      <td>119.40</td>\n",
       "      <td>4.42</td>\n",
       "    </tr>\n",
       "    <tr>\n",
       "      <th>40+</th>\n",
       "      <td>17</td>\n",
       "      <td>3.16</td>\n",
       "      <td>53.75</td>\n",
       "      <td>4.89</td>\n",
       "    </tr>\n",
       "  </tbody>\n",
       "</table>\n",
       "</div>"
      ],
      "text/plain": [
       "         Purchase Count  Average Purchase Price  Total Purchase Value  \\\n",
       "age                                                                     \n",
       "0 - 10               28                    2.98                 83.46   \n",
       "10 - 14              35                    2.77                 96.95   \n",
       "15 - 19             133                    2.91                386.42   \n",
       "20 - 24             336                    2.91                978.77   \n",
       "25 - 29             125                    2.96                370.33   \n",
       "30 - 34              64                    3.08                197.25   \n",
       "35 - 39              42                    2.84                119.40   \n",
       "40+                  17                    3.16                 53.75   \n",
       "\n",
       "         Normalized Totals  \n",
       "age                         \n",
       "0 - 10                4.39  \n",
       "10 - 14               4.22  \n",
       "15 - 19               3.86  \n",
       "20 - 24               3.78  \n",
       "25 - 29               4.26  \n",
       "30 - 34               4.20  \n",
       "35 - 39               4.42  \n",
       "40+                   4.89  "
      ]
     },
     "execution_count": 164,
     "metadata": {},
     "output_type": "execute_result"
    }
   ],
   "source": [
    "#Add column for normalized totals\n",
    "age_demographics[\"Normalized Totals\"] = age_normalized_totals\n",
    "age_demographics"
   ]
  },
  {
   "cell_type": "code",
   "execution_count": 165,
   "metadata": {
    "collapsed": true
   },
   "outputs": [],
   "source": [
    "#Top Spenders"
   ]
  },
  {
   "cell_type": "code",
   "execution_count": 166,
   "metadata": {
    "collapsed": true
   },
   "outputs": [],
   "source": [
    "#Calculate spending values for individual users\n",
    "name_purchase_sum = pd.DataFrame(round(pymoli_df.groupby('SN')['Price'].sum(),2))\n",
    "name_purchase_count = pd.DataFrame(round(pymoli_df.groupby('SN')['Price'].count(),2))\n",
    "name_purchase_average = pd.DataFrame(round(pymoli_df.groupby('SN')['Price'].mean(),2))"
   ]
  },
  {
   "cell_type": "code",
   "execution_count": 167,
   "metadata": {},
   "outputs": [
    {
     "data": {
      "text/html": [
       "<div>\n",
       "<style>\n",
       "    .dataframe thead tr:only-child th {\n",
       "        text-align: right;\n",
       "    }\n",
       "\n",
       "    .dataframe thead th {\n",
       "        text-align: left;\n",
       "    }\n",
       "\n",
       "    .dataframe tbody tr th {\n",
       "        vertical-align: top;\n",
       "    }\n",
       "</style>\n",
       "<table border=\"1\" class=\"dataframe\">\n",
       "  <thead>\n",
       "    <tr style=\"text-align: right;\">\n",
       "      <th></th>\n",
       "      <th>Total Purchase Price</th>\n",
       "      <th>Purchase Count</th>\n",
       "      <th>Average Purchase Price</th>\n",
       "    </tr>\n",
       "    <tr>\n",
       "      <th>SN</th>\n",
       "      <th></th>\n",
       "      <th></th>\n",
       "      <th></th>\n",
       "    </tr>\n",
       "  </thead>\n",
       "  <tbody>\n",
       "    <tr>\n",
       "      <th>Undirrala66</th>\n",
       "      <td>17.06</td>\n",
       "      <td>5</td>\n",
       "      <td>3.41</td>\n",
       "    </tr>\n",
       "    <tr>\n",
       "      <th>Saedue76</th>\n",
       "      <td>13.56</td>\n",
       "      <td>4</td>\n",
       "      <td>3.39</td>\n",
       "    </tr>\n",
       "    <tr>\n",
       "      <th>Mindimnya67</th>\n",
       "      <td>12.74</td>\n",
       "      <td>4</td>\n",
       "      <td>3.18</td>\n",
       "    </tr>\n",
       "    <tr>\n",
       "      <th>Haellysu29</th>\n",
       "      <td>12.73</td>\n",
       "      <td>3</td>\n",
       "      <td>4.24</td>\n",
       "    </tr>\n",
       "    <tr>\n",
       "      <th>Eoda93</th>\n",
       "      <td>11.58</td>\n",
       "      <td>3</td>\n",
       "      <td>3.86</td>\n",
       "    </tr>\n",
       "  </tbody>\n",
       "</table>\n",
       "</div>"
      ],
      "text/plain": [
       "             Total Purchase Price  Purchase Count  Average Purchase Price\n",
       "SN                                                                       \n",
       "Undirrala66                 17.06               5                    3.41\n",
       "Saedue76                    13.56               4                    3.39\n",
       "Mindimnya67                 12.74               4                    3.18\n",
       "Haellysu29                  12.73               3                    4.24\n",
       "Eoda93                      11.58               3                    3.86"
      ]
     },
     "execution_count": 167,
     "metadata": {},
     "output_type": "execute_result"
    }
   ],
   "source": [
    "#Convert values into dataframe\n",
    "top_five = pd.merge(name_purchase_sum, name_purchase_count, left_index = True, right_index = True).merge(name_purchase_average, left_index=True, right_index=True)\n",
    "#Rename columns\n",
    "top_five.rename(columns = {'Price_x': 'Total Purchase Price', 'Price_y':'Purchase Count', 'Price':'Average Purchase Price'}, inplace = True)\n",
    "#Sort by highest spenders\n",
    "top_five.sort_values('Total Purchase Price', ascending = False, inplace=True)\n",
    "top_five.head(n=5)"
   ]
  },
  {
   "cell_type": "code",
   "execution_count": 168,
   "metadata": {
    "collapsed": true
   },
   "outputs": [],
   "source": [
    "#Most Popular Items"
   ]
  },
  {
   "cell_type": "code",
   "execution_count": 180,
   "metadata": {},
   "outputs": [
    {
     "data": {
      "text/html": [
       "<div>\n",
       "<style>\n",
       "    .dataframe thead tr:only-child th {\n",
       "        text-align: right;\n",
       "    }\n",
       "\n",
       "    .dataframe thead th {\n",
       "        text-align: left;\n",
       "    }\n",
       "\n",
       "    .dataframe tbody tr th {\n",
       "        vertical-align: top;\n",
       "    }\n",
       "</style>\n",
       "<table border=\"1\" class=\"dataframe\">\n",
       "  <thead>\n",
       "    <tr style=\"text-align: right;\">\n",
       "      <th></th>\n",
       "      <th>Price</th>\n",
       "      <th>Purchase Count</th>\n",
       "    </tr>\n",
       "    <tr>\n",
       "      <th>Item ID</th>\n",
       "      <th></th>\n",
       "      <th></th>\n",
       "    </tr>\n",
       "  </thead>\n",
       "  <tbody>\n",
       "    <tr>\n",
       "      <th>0</th>\n",
       "      <td>1.82</td>\n",
       "      <td>1</td>\n",
       "    </tr>\n",
       "    <tr>\n",
       "      <th>1</th>\n",
       "      <td>9.12</td>\n",
       "      <td>4</td>\n",
       "    </tr>\n",
       "    <tr>\n",
       "      <th>2</th>\n",
       "      <td>3.40</td>\n",
       "      <td>1</td>\n",
       "    </tr>\n",
       "    <tr>\n",
       "      <th>3</th>\n",
       "      <td>1.79</td>\n",
       "      <td>1</td>\n",
       "    </tr>\n",
       "    <tr>\n",
       "      <th>4</th>\n",
       "      <td>2.28</td>\n",
       "      <td>1</td>\n",
       "    </tr>\n",
       "  </tbody>\n",
       "</table>\n",
       "</div>"
      ],
      "text/plain": [
       "         Price  Purchase Count\n",
       "Item ID                       \n",
       "0         1.82               1\n",
       "1         9.12               4\n",
       "2         3.40               1\n",
       "3         1.79               1\n",
       "4         2.28               1"
      ]
     },
     "execution_count": 180,
     "metadata": {},
     "output_type": "execute_result"
    }
   ],
   "source": [
    "#Start a dataframe of item counts by Item ID\n",
    "popular_items = pd.DataFrame(pymoli_df.groupby('Item ID')['Item ID'].count())\n",
    "popular_items.head()\n",
    "#Create dataframe by Item ID to hold price totals\n",
    "popular_items_revenue = pd.DataFrame(pymoli_df.groupby('Item ID')['Price'].sum())\n",
    "#Merge dataframes\n",
    "prices = pd.merge(popular_items_revenue, popular_items, left_index=True, right_index=True)\n",
    "#Rename column\n",
    "prices.rename(columns = {\"Item ID\": \"Purchase Count\"}, inplace=True)\n",
    "prices.head()"
   ]
  },
  {
   "cell_type": "code",
   "execution_count": 181,
   "metadata": {},
   "outputs": [],
   "source": [
    "#Create dataframe for item names indexed by Item ID\n",
    "popular_item_names = pd.DataFrame(pymoli_df[\"Item Name\"])\n",
    "#Merge it with pricing dataframe\n",
    "names_with_prices = pd.merge(popular_item_names, prices, left_index=True, right_index=True)"
   ]
  },
  {
   "cell_type": "code",
   "execution_count": 187,
   "metadata": {},
   "outputs": [
    {
     "data": {
      "text/html": [
       "<div>\n",
       "<style>\n",
       "    .dataframe thead tr:only-child th {\n",
       "        text-align: right;\n",
       "    }\n",
       "\n",
       "    .dataframe thead th {\n",
       "        text-align: left;\n",
       "    }\n",
       "\n",
       "    .dataframe tbody tr th {\n",
       "        vertical-align: top;\n",
       "    }\n",
       "</style>\n",
       "<table border=\"1\" class=\"dataframe\">\n",
       "  <thead>\n",
       "    <tr style=\"text-align: right;\">\n",
       "      <th></th>\n",
       "      <th>Item Name</th>\n",
       "      <th>Price</th>\n",
       "      <th>Purchase Count</th>\n",
       "      <th>Total Purchase Value</th>\n",
       "    </tr>\n",
       "    <tr>\n",
       "      <th>Item ID</th>\n",
       "      <th></th>\n",
       "      <th></th>\n",
       "      <th></th>\n",
       "      <th></th>\n",
       "    </tr>\n",
       "  </thead>\n",
       "  <tbody>\n",
       "    <tr>\n",
       "      <th>0</th>\n",
       "      <td>Bone Crushing Silver Skewer</td>\n",
       "      <td>1.82</td>\n",
       "      <td>1</td>\n",
       "      <td>1.82</td>\n",
       "    </tr>\n",
       "    <tr>\n",
       "      <th>1</th>\n",
       "      <td>Stormbringer, Dark Blade of Ending Misery</td>\n",
       "      <td>9.12</td>\n",
       "      <td>4</td>\n",
       "      <td>36.48</td>\n",
       "    </tr>\n",
       "    <tr>\n",
       "      <th>2</th>\n",
       "      <td>Primitive Blade</td>\n",
       "      <td>3.40</td>\n",
       "      <td>1</td>\n",
       "      <td>3.40</td>\n",
       "    </tr>\n",
       "    <tr>\n",
       "      <th>3</th>\n",
       "      <td>Final Critic</td>\n",
       "      <td>1.79</td>\n",
       "      <td>1</td>\n",
       "      <td>1.79</td>\n",
       "    </tr>\n",
       "    <tr>\n",
       "      <th>4</th>\n",
       "      <td>Stormfury Mace</td>\n",
       "      <td>2.28</td>\n",
       "      <td>1</td>\n",
       "      <td>2.28</td>\n",
       "    </tr>\n",
       "  </tbody>\n",
       "</table>\n",
       "</div>"
      ],
      "text/plain": [
       "                                         Item Name  Price  Purchase Count  \\\n",
       "Item ID                                                                     \n",
       "0                      Bone Crushing Silver Skewer   1.82               1   \n",
       "1        Stormbringer, Dark Blade of Ending Misery   9.12               4   \n",
       "2                                  Primitive Blade   3.40               1   \n",
       "3                                     Final Critic   1.79               1   \n",
       "4                                   Stormfury Mace   2.28               1   \n",
       "\n",
       "         Total Purchase Value  \n",
       "Item ID                        \n",
       "0                        1.82  \n",
       "1                       36.48  \n",
       "2                        3.40  \n",
       "3                        1.79  \n",
       "4                        2.28  "
      ]
     },
     "execution_count": 187,
     "metadata": {},
     "output_type": "execute_result"
    }
   ],
   "source": [
    "#Calculate total purchase value and drop into new column\n",
    "names_with_prices['Total Purchase Value'] = names_with_prices['Price'] * names_with_prices['Purchase Count']\n",
    "names_with_prices.head()"
   ]
  },
  {
   "cell_type": "code",
   "execution_count": 204,
   "metadata": {},
   "outputs": [
    {
     "data": {
      "text/html": [
       "<div>\n",
       "<style>\n",
       "    .dataframe thead tr:only-child th {\n",
       "        text-align: right;\n",
       "    }\n",
       "\n",
       "    .dataframe thead th {\n",
       "        text-align: left;\n",
       "    }\n",
       "\n",
       "    .dataframe tbody tr th {\n",
       "        vertical-align: top;\n",
       "    }\n",
       "</style>\n",
       "<table border=\"1\" class=\"dataframe\">\n",
       "  <thead>\n",
       "    <tr style=\"text-align: right;\">\n",
       "      <th></th>\n",
       "      <th>Item Name</th>\n",
       "      <th>Price</th>\n",
       "      <th>Purchase Count</th>\n",
       "      <th>Total Purchase Value</th>\n",
       "    </tr>\n",
       "    <tr>\n",
       "      <th>Item ID</th>\n",
       "      <th></th>\n",
       "      <th></th>\n",
       "      <th></th>\n",
       "      <th></th>\n",
       "    </tr>\n",
       "  </thead>\n",
       "  <tbody>\n",
       "    <tr>\n",
       "      <th>39</th>\n",
       "      <td>Stormfury Mace</td>\n",
       "      <td>25.85</td>\n",
       "      <td>11</td>\n",
       "      <td>284.35</td>\n",
       "    </tr>\n",
       "    <tr>\n",
       "      <th>84</th>\n",
       "      <td>Thorn, Satchel of Dark Souls</td>\n",
       "      <td>24.53</td>\n",
       "      <td>11</td>\n",
       "      <td>269.83</td>\n",
       "    </tr>\n",
       "    <tr>\n",
       "      <th>31</th>\n",
       "      <td>Shadow Strike, Glory of Ending Hope</td>\n",
       "      <td>18.63</td>\n",
       "      <td>9</td>\n",
       "      <td>167.67</td>\n",
       "    </tr>\n",
       "    <tr>\n",
       "      <th>175</th>\n",
       "      <td>Retribution Axe</td>\n",
       "      <td>11.16</td>\n",
       "      <td>9</td>\n",
       "      <td>100.44</td>\n",
       "    </tr>\n",
       "    <tr>\n",
       "      <th>13</th>\n",
       "      <td>Piety, Guardian of Riddles</td>\n",
       "      <td>13.41</td>\n",
       "      <td>9</td>\n",
       "      <td>120.69</td>\n",
       "    </tr>\n",
       "  </tbody>\n",
       "</table>\n",
       "</div>"
      ],
      "text/plain": [
       "                                   Item Name  Price  Purchase Count  \\\n",
       "Item ID                                                               \n",
       "39                            Stormfury Mace  25.85              11   \n",
       "84              Thorn, Satchel of Dark Souls  24.53              11   \n",
       "31       Shadow Strike, Glory of Ending Hope  18.63               9   \n",
       "175                          Retribution Axe  11.16               9   \n",
       "13                Piety, Guardian of Riddles  13.41               9   \n",
       "\n",
       "         Total Purchase Value  \n",
       "Item ID                        \n",
       "39                     284.35  \n",
       "84                     269.83  \n",
       "31                     167.67  \n",
       "175                    100.44  \n",
       "13                     120.69  "
      ]
     },
     "execution_count": 204,
     "metadata": {},
     "output_type": "execute_result"
    }
   ],
   "source": [
    "#Rename the index\n",
    "names_with_prices.index.names = ['Item ID']\n",
    "#Sort by total number of purchases and print top five rows\n",
    "names_with_prices.sort_values(['Purchase Count'], ascending=False).head(n=5)"
   ]
  },
  {
   "cell_type": "code",
   "execution_count": 184,
   "metadata": {
    "collapsed": true
   },
   "outputs": [],
   "source": [
    "#Most Profitable Items"
   ]
  },
  {
   "cell_type": "code",
   "execution_count": 202,
   "metadata": {},
   "outputs": [
    {
     "data": {
      "text/html": [
       "<div>\n",
       "<style>\n",
       "    .dataframe thead tr:only-child th {\n",
       "        text-align: right;\n",
       "    }\n",
       "\n",
       "    .dataframe thead th {\n",
       "        text-align: left;\n",
       "    }\n",
       "\n",
       "    .dataframe tbody tr th {\n",
       "        vertical-align: top;\n",
       "    }\n",
       "</style>\n",
       "<table border=\"1\" class=\"dataframe\">\n",
       "  <thead>\n",
       "    <tr style=\"text-align: right;\">\n",
       "      <th></th>\n",
       "      <th>Item Name</th>\n",
       "      <th>Price</th>\n",
       "      <th>Purchase Count</th>\n",
       "      <th>Total Purchase Value</th>\n",
       "    </tr>\n",
       "    <tr>\n",
       "      <th>Item ID</th>\n",
       "      <th></th>\n",
       "      <th></th>\n",
       "      <th></th>\n",
       "      <th></th>\n",
       "    </tr>\n",
       "  </thead>\n",
       "  <tbody>\n",
       "    <tr>\n",
       "      <th>34</th>\n",
       "      <td>Alpha, Reach of Ending Hope</td>\n",
       "      <td>37.26</td>\n",
       "      <td>9</td>\n",
       "      <td>335.34</td>\n",
       "    </tr>\n",
       "    <tr>\n",
       "      <th>39</th>\n",
       "      <td>Stormfury Mace</td>\n",
       "      <td>25.85</td>\n",
       "      <td>11</td>\n",
       "      <td>284.35</td>\n",
       "    </tr>\n",
       "    <tr>\n",
       "      <th>84</th>\n",
       "      <td>Thorn, Satchel of Dark Souls</td>\n",
       "      <td>24.53</td>\n",
       "      <td>11</td>\n",
       "      <td>269.83</td>\n",
       "    </tr>\n",
       "    <tr>\n",
       "      <th>107</th>\n",
       "      <td>Spectral Diamond Doomblade</td>\n",
       "      <td>28.88</td>\n",
       "      <td>8</td>\n",
       "      <td>231.04</td>\n",
       "    </tr>\n",
       "    <tr>\n",
       "      <th>115</th>\n",
       "      <td>Thorn, Conqueror of the Corrupted</td>\n",
       "      <td>29.75</td>\n",
       "      <td>7</td>\n",
       "      <td>208.25</td>\n",
       "    </tr>\n",
       "  </tbody>\n",
       "</table>\n",
       "</div>"
      ],
      "text/plain": [
       "                                 Item Name  Price  Purchase Count  \\\n",
       "Item ID                                                             \n",
       "34             Alpha, Reach of Ending Hope  37.26               9   \n",
       "39                          Stormfury Mace  25.85              11   \n",
       "84            Thorn, Satchel of Dark Souls  24.53              11   \n",
       "107             Spectral Diamond Doomblade  28.88               8   \n",
       "115      Thorn, Conqueror of the Corrupted  29.75               7   \n",
       "\n",
       "         Total Purchase Value  \n",
       "Item ID                        \n",
       "34                     335.34  \n",
       "39                     284.35  \n",
       "84                     269.83  \n",
       "107                    231.04  \n",
       "115                    208.25  "
      ]
     },
     "execution_count": 202,
     "metadata": {},
     "output_type": "execute_result"
    }
   ],
   "source": [
    "#Sort previous table by total purchase value instead of purchase count and print top five rows\n",
    "names_with_prices.sort_values(['Total Purchase Value'], ascending=False).head(n=5)"
   ]
  },
  {
   "cell_type": "markdown",
   "metadata": {
    "collapsed": true
   },
   "source": [
    "Observable Trends:\n",
    "\n",
    "1. A majority of the top-selling items by purchase count were above the average price. This could point to a trend of higher  priced items being in higher demand. The mean purchase price is $12.49.\n",
    "\n",
    "2. This trend echoes the same pattern as the first. All five items with the highest total purchase value were priced well above the mean item price.\n",
    "\n",
    "3. Interestingly, the players in each age group acted like a bell curve, peaking with 20-24 year olds and minimizing outward towards the youngest and oldest players. This pattern carries over into total purchase value, but not average purchase price or normalized totals. \n"
   ]
  }
 ],
 "metadata": {
  "kernelspec": {
   "display_name": "Python 3",
   "language": "python",
   "name": "python3"
  },
  "language_info": {
   "codemirror_mode": {
    "name": "ipython",
    "version": 3
   },
   "file_extension": ".py",
   "mimetype": "text/x-python",
   "name": "python",
   "nbconvert_exporter": "python",
   "pygments_lexer": "ipython3",
   "version": "3.6.3"
  }
 },
 "nbformat": 4,
 "nbformat_minor": 2
}
